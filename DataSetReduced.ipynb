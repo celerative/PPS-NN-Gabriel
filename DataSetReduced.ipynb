{
 "cells": [
  {
   "cell_type": "markdown",
   "metadata": {},
   "source": [
    "La Base de datos de imagenes fue obtenida de http://benchmark.ini.rub.de/?section=gtsrb&subsection=dataset#Downloads y es de libre uso. \n",
    "Las imagenes de entrenamiento estan en formato .ppm (color RGB)* separadas en carpetas segun su clasificacion, cada carpeta esta acompañada de un archivo .csv con informacion del ancho y alto de la imagen y la ubicacion (x1, y1, x2, y2) de la señal en cuestion. La misma tiene una separacion mínima del 10% entre el borde de la señal y el de la imagen.\n",
    "Las imagenes de prueba estan alocadas en una misma carpeta acompañadas de un archivo .csv indicando su clasificacion\n",
    "\n",
    "El codigo para cargar las imagenes puede ser descargado de\n",
    "http://benchmark.ini.rub.de/?section=gtsrb&subsection=dataset#Codesnippets\n",
    "siendo el mismo de libre uso. Éste código esta adaptado a Python 2 y solo sirve para cargar las imagenes de entrenamiento. Por lo que es necesario realizar algunos cambios para que funcione correctamente en Python 3\n",
    "\n",
    "*en caso de que se deseen visualizar estas imagenes puede utilizar un programa como GIMP"
   ]
  },
  {
   "cell_type": "code",
   "execution_count": 1,
   "metadata": {
    "collapsed": true
   },
   "outputs": [],
   "source": [
    "\"\"\"J. Stallkamp, M. Schlipsing, J. Salmen, and C. Igel. The German Traffic Sign Recognition Benchmark: A multi-class classification competition. In Proceedings of the IEEE International Joint Conference on Neural Networks, pages 1453–1460. 2011. \n",
    "\n",
    "@inproceedings{Stallkamp-IJCNN-2011,\n",
    "    author = {Johannes Stallkamp and Marc Schlipsing and Jan Salmen and Christian Igel},\n",
    "    booktitle = {IEEE International Joint Conference on Neural Networks},\n",
    "    title = {The {G}erman {T}raffic {S}ign {R}ecognition {B}enchmark: A multi-class classification competition},\n",
    "    year = {2011},\n",
    "    pages = {1453--1460}\n",
    "}\"\"\"\n",
    "# The German Traffic Sign Recognition Benchmark\n",
    "#\n",
    "# sample code for reading the traffic sign images and the\n",
    "# corresponding labels\n",
    "#\n",
    "# example:\n",
    "#            \n",
    "# trainImages, trainLabels = readTrafficSigns('GTSRB/Training')\n",
    "# print len(trainLabels), len(trainImages)\n",
    "# plt.imshow(trainImages[42])\n",
    "# plt.show()\n",
    "#\n",
    "# have fun, Christian\n",
    "\n",
    "import matplotlib.pyplot as plt\n",
    "import csv\n",
    "\n",
    "# function for reading the images\n",
    "# arguments: path to the traffic sign data, for example './GTSRB/Training'\n",
    "# returns: list of images, list of corresponding labels \n",
    "def readTrafficSigns(rootpath):\n",
    "    '''Reads traffic sign data for German Traffic Sign Recognition Benchmark.\n",
    "\n",
    "    Arguments: path to the training traffic sign data, for example './GTSRB/Training/Images'\n",
    "    Returns:   list of images, list of corresponding labels'''\n",
    "    images = [] # images\n",
    "    labels = [] # corresponding labels\n",
    "    # loop over all 42 classes\n",
    "    for c in range(0,43):\n",
    "        prefix = rootpath + '/' + format(c, '05d') + '/' # subdirectory for class\n",
    "        gtFile = open(prefix + 'GT-'+ format(c, '05d') + '.csv', 'r') # annotations file\n",
    "        gtReader = csv.reader(gtFile, delimiter=';') # csv parser for annotations file\n",
    "        next(gtReader) # skip header\n",
    "        # loop over all images in current annotations file\n",
    "        for row in gtReader:\n",
    "            images.append(plt.imread(prefix + row[0])) # the 1th column is the filename\n",
    "            labels.append(row[7]) # the 8th column is the label\n",
    "        gtFile.close()\n",
    "    return images, labels\n"
   ]
  },
  {
   "cell_type": "markdown",
   "metadata": {},
   "source": [
    "El data set descargado contiene una coleccion de imagenes cada una de las cuales esta duplicada 30 veces con diferentes dimensiones. Dado que para entrar a la red necesitaremos todas imagenes del mismo tamaño, se considera innecesario este reescalamiento, por lo que se tomaran las imagenes de mayor dimension, para luego tener mejor fiabilidad a la hora de aplicarle transformaciones lineales"
   ]
  },
  {
   "cell_type": "code",
   "execution_count": 2,
   "metadata": {
    "scrolled": true
   },
   "outputs": [
    {
     "name": "stdout",
     "output_type": "stream",
     "text": [
      "finish\n"
     ]
    }
   ],
   "source": [
    "import scipy\n",
    "import csv\n",
    "from scipy.misc import imsave\n",
    "#ruta de destino\n",
    "destino='./images/'\n",
    "#se cargan las imagenes originales\n",
    "X_train, Y_train = readTrafficSigns('GTSRB/Training/Images')\n",
    "#se crea un nuevo archivo csv con la informacion de las imagenes\n",
    "with open('./images/info.csv', 'w', newline='') as f:\n",
    "    writer = csv.writer(f)\n",
    "    for i in range(30,len(X_train), 30):\n",
    "        fileName= format((i//30)-1, '04d') + '.jpeg'\n",
    "        imsave(destino + fileName, X_train[i-1])\n",
    "        writer.writerow(('./' + fileName, Y_train[i-1]))\n",
    "\n",
    "#se limpia la memoria\n",
    "del X_train\n",
    "del Y_train"
   ]
  },
  {
   "cell_type": "markdown",
   "metadata": {},
   "source": [
    "ahora tendremos un set reducido de imagenes distintas unas de otras. Una vez hecho esto podremos crear nuestro programa independiente de el dataset descargado"
   ]
  }
 ],
 "metadata": {
  "kernelspec": {
   "display_name": "Python 3",
   "language": "python",
   "name": "python3"
  },
  "language_info": {
   "codemirror_mode": {
    "name": "ipython",
    "version": 3
   },
   "file_extension": ".py",
   "mimetype": "text/x-python",
   "name": "python",
   "nbconvert_exporter": "python",
   "pygments_lexer": "ipython3",
   "version": "3.5.2"
  }
 },
 "nbformat": 4,
 "nbformat_minor": 2
}
