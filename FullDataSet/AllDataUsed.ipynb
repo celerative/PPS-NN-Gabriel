{
 "cells": [
  {
   "cell_type": "markdown",
   "metadata": {},
   "source": [
    "configuracion inicial de la red"
   ]
  },
  {
   "cell_type": "code",
   "execution_count": 1,
   "metadata": {},
   "outputs": [
    {
     "name": "stderr",
     "output_type": "stream",
     "text": [
      "Using TensorFlow backend.\n"
     ]
    },
    {
     "name": "stdout",
     "output_type": "stream",
     "text": [
      "Found 39209 images belonging to 43 classes.\n",
      "Found 12630 images belonging to 43 classes.\n"
     ]
    }
   ],
   "source": [
    "from keras.preprocessing.image import ImageDataGenerator\n",
    "from keras import backend as K\n",
    "from keras.callbacks import EarlyStopping\n",
    "\n",
    "################ CONSTANTES #################\n",
    "#### modificar en caso que sea necesario ####\n",
    "\n",
    "#ruta a la estructura de directorio de entrenamiento y test respectivamente, \n",
    "#la misma debe contener una carpeta para cada clase \n",
    "trainPath = './Data/Train'\n",
    "testPath =  './Data/Test'\n",
    "\n",
    "# tamaño de las imagenes redimensionadas\n",
    "img_dim= (128, 128)\n",
    "\n",
    "#color de la imagen (grayscale o rgb)\n",
    "#los canales se setean automaticamente\n",
    "color= 'rgb'\n",
    "if (color=='grayscale'): canales = 1\n",
    "if (color=='rgb'): canales = 3\n",
    "\n",
    "#numero maximo de epocas\n",
    "epochs = 20\n",
    "earlystop = EarlyStopping(monitor='val_loss', patience=2, min_delta = 0.005, verbose=1)\n",
    "\n",
    "#mini_batch de aprendizaje\n",
    "batch_size = 16\n",
    "#cantidad de imagenes generadas con la funcion flow\n",
    "batch_aug = 20 \n",
    "\n",
    "#cantidad total de muestras de entrenamiento y test\n",
    "train_samples = 39209\n",
    "test_samples = 12630\n",
    "\n",
    "#setea la forma dependiendo de la configuracion de keras\n",
    "if K.image_data_format() == 'channels_first':\n",
    "    input_shape = (canales, img_dim[0], img_dim[1])\n",
    "else:\n",
    "    input_shape = (img_dim[0], img_dim[1], canales)\n",
    "                                      \n",
    "# data augmentation\n",
    "train_datagen = ImageDataGenerator(rescale=1. / 255,\n",
    "                                    rotation_range=10,\n",
    "                                    width_shift_range=0.05,\n",
    "                                    height_shift_range=0.05,\n",
    "                                    shear_range=0.05,\n",
    "                                    #zoom_range=0.1,\n",
    "                                    fill_mode='nearest')\n",
    "\n",
    "# data augmentation:\n",
    "# solo reescalamiento\n",
    "test_datagen = ImageDataGenerator()\n",
    "\n",
    "#generadores de entrenamiento y test\n",
    "train_generator = train_datagen.flow_from_directory(trainPath, \n",
    "                                                    target_size = img_dim,\n",
    "                                                    color_mode = color,\n",
    "                                                    batch_size=batch_aug)\n",
    "\n",
    "test_generator = train_datagen.flow_from_directory(testPath, \n",
    "                                                    target_size = img_dim,\n",
    "                                                    color_mode = color,\n",
    "                                                    batch_size=1)"
   ]
  },
  {
   "cell_type": "code",
   "execution_count": 2,
   "metadata": {
    "collapsed": true
   },
   "outputs": [],
   "source": [
    "from keras.models import Model, Input\n",
    "from keras.layers import Convolution2D, MaxPooling2D, AveragePooling2D \n",
    "from keras.layers import Dense, Dropout\n",
    "from keras.layers import Activation, Flatten, merge\n",
    "from keras.layers.merge import concatenate\n",
    "from keras import regularizers"
   ]
  },
  {
   "cell_type": "markdown",
   "metadata": {},
   "source": [
    "Definicion del modelo usando el modo sequential de keras"
   ]
  },
  {
   "cell_type": "code",
   "execution_count": 3,
   "metadata": {},
   "outputs": [
    {
     "name": "stdout",
     "output_type": "stream",
     "text": [
      "_________________________________________________________________\n",
      "Layer (type)                 Output Shape              Param #   \n",
      "=================================================================\n",
      "conv2d_1 (Conv2D)            (None, 128, 128, 16)      1216      \n",
      "_________________________________________________________________\n",
      "max_pooling2d_1 (MaxPooling2 (None, 42, 42, 16)        0         \n",
      "_________________________________________________________________\n",
      "conv2d_2 (Conv2D)            (None, 42, 42, 32)        12832     \n",
      "_________________________________________________________________\n",
      "max_pooling2d_2 (MaxPooling2 (None, 14, 14, 32)        0         \n",
      "_________________________________________________________________\n",
      "conv2d_3 (Conv2D)            (None, 14, 14, 64)        51264     \n",
      "_________________________________________________________________\n",
      "max_pooling2d_3 (MaxPooling2 (None, 7, 7, 64)          0         \n",
      "_________________________________________________________________\n",
      "flatten_1 (Flatten)          (None, 3136)              0         \n",
      "_________________________________________________________________\n",
      "dense_1 (Dense)              (None, 1024)              3212288   \n",
      "_________________________________________________________________\n",
      "dropout_1 (Dropout)          (None, 1024)              0         \n",
      "_________________________________________________________________\n",
      "dense_2 (Dense)              (None, 512)               524800    \n",
      "_________________________________________________________________\n",
      "dropout_2 (Dropout)          (None, 512)               0         \n",
      "_________________________________________________________________\n",
      "dense_3 (Dense)              (None, 43)                22059     \n",
      "=================================================================\n",
      "Total params: 3,824,459\n",
      "Trainable params: 3,824,459\n",
      "Non-trainable params: 0\n",
      "_________________________________________________________________\n"
     ]
    }
   ],
   "source": [
    "from keras.models import Sequential\n",
    "from keras.layers import Conv2D\n",
    "model = Sequential()\n",
    "model.add(Conv2D(16, (5, 5), \n",
    "                 padding = 'same',\n",
    "                 input_shape=input_shape, \n",
    "                 kernel_initializer='glorot_normal', \n",
    "                 activation='relu'))\n",
    "model.add(MaxPooling2D(pool_size=(3, 3)))\n",
    "model.add(Conv2D(32, (5, 5), \n",
    "                 padding = 'same',\n",
    "                 input_shape=input_shape, \n",
    "                 kernel_initializer='glorot_normal', \n",
    "                 activation='relu'))\n",
    "model.add(MaxPooling2D(pool_size=(3, 3)))\n",
    "model.add(Conv2D(64, (5, 5), \n",
    "                 padding = 'same',\n",
    "                 input_shape=input_shape, \n",
    "                 kernel_initializer='glorot_normal', \n",
    "                 activation='relu'))\n",
    "model.add(MaxPooling2D(pool_size=(2, 2)))\n",
    "\n",
    "\n",
    "model.add(Flatten())\n",
    "model.add(Dense(1024, kernel_initializer='glorot_normal', activation='relu'))\n",
    "model.add(Dropout(0.5))\n",
    "model.add(Dense(512, kernel_initializer='glorot_normal', activation='relu'))\n",
    "model.add(Dropout(0.4))\n",
    "model.add(Dense(43, kernel_initializer='glorot_normal', activation='softmax'))\n",
    "\n",
    "model.summary()"
   ]
  },
  {
   "cell_type": "code",
   "execution_count": null,
   "metadata": {
    "scrolled": true
   },
   "outputs": [
    {
     "name": "stdout",
     "output_type": "stream",
     "text": [
      "Epoch 1/20\n",
      "2450/2450 [==============================] - 1815s - loss: 1.7528 - acc: 0.4688 - val_loss: 0.7018 - val_acc: 0.7731\n",
      "Epoch 2/20\n",
      "2450/2450 [==============================] - 1821s - loss: 0.3847 - acc: 0.8803 - val_loss: 0.5779 - val_acc: 0.8504\n",
      "Epoch 3/20\n",
      "2450/2450 [==============================] - 1843s - loss: 0.2250 - acc: 0.9334 - val_loss: 0.4361 - val_acc: 0.8948\n",
      "Epoch 4/20\n",
      "2450/2450 [==============================] - 1863s - loss: 0.1888 - acc: 0.9463 - val_loss: 0.4202 - val_acc: 0.8973\n",
      "Epoch 5/20\n",
      "2450/2450 [==============================] - 1830s - loss: 0.1634 - acc: 0.9540 - val_loss: 0.2711 - val_acc: 0.9290\n",
      "Epoch 6/20\n",
      "2450/2450 [==============================] - 1838s - loss: 0.1504 - acc: 0.9583 - val_loss: 0.2565 - val_acc: 0.9430\n",
      "Epoch 7/20\n",
      "2450/2450 [==============================] - 2547s - loss: 0.1434 - acc: 0.9618 - val_loss: 0.2994 - val_acc: 0.9316\n",
      "Epoch 8/20\n",
      "2450/2450 [==============================] - 1882s - loss: 0.1393 - acc: 0.9644 - val_loss: 0.2673 - val_acc: 0.9316\n",
      "Epoch 9/20\n",
      " 334/2450 [===>..........................] - ETA: 1689s - loss: 0.1529 - acc: 0.9638"
     ]
    }
   ],
   "source": [
    "\n",
    "\n",
    "model.compile(loss='categorical_crossentropy',\n",
    "              optimizer='adam',\n",
    "              metrics=['accuracy'])\n",
    "\n",
    "model.fit_generator(\n",
    "    train_generator,\n",
    "    steps_per_epoch=train_samples // batch_size,\n",
    "    epochs=epochs,\n",
    "    validation_data=test_generator,\n",
    "    validation_steps=test_samples // batch_size,\n",
    "    callbacks = [earlystop],\n",
    "    verbose = 1)"
   ]
  },
  {
   "cell_type": "code",
   "execution_count": 8,
   "metadata": {
    "collapsed": true
   },
   "outputs": [],
   "source": [
    "model.save('./redNeuronal_AL-AM.h5')"
   ]
  },
  {
   "cell_type": "code",
   "execution_count": null,
   "metadata": {
    "collapsed": true
   },
   "outputs": [],
   "source": []
  }
 ],
 "metadata": {
  "kernelspec": {
   "display_name": "Python 3",
   "language": "python",
   "name": "python3"
  },
  "language_info": {
   "codemirror_mode": {
    "name": "ipython",
    "version": 3
   },
   "file_extension": ".py",
   "mimetype": "text/x-python",
   "name": "python",
   "nbconvert_exporter": "python",
   "pygments_lexer": "ipython3",
   "version": "3.5.2"
  }
 },
 "nbformat": 4,
 "nbformat_minor": 2
}
